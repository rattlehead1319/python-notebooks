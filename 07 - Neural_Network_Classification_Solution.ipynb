{
  "nbformat": 4,
  "nbformat_minor": 0,
  "metadata": {
    "kernelspec": {
      "display_name": "Python 3",
      "language": "python",
      "name": "python3"
    },
    "language_info": {
      "codemirror_mode": {
        "name": "ipython",
        "version": 3
      },
      "file_extension": ".py",
      "mimetype": "text/x-python",
      "name": "python",
      "nbconvert_exporter": "python",
      "pygments_lexer": "ipython3",
      "version": "3.7.4"
    },
    "colab": {
      "name": "Neural_Network_Classfication_Solution.ipynb",
      "provenance": []
    }
  },
  "cells": [
    {
      "cell_type": "code",
      "metadata": {
        "id": "Ey_Dd8QGFjMo",
        "colab_type": "code",
        "colab": {}
      },
      "source": [
        "%tensorflow_version 2.x"
      ],
      "execution_count": 0,
      "outputs": []
    },
    {
      "cell_type": "code",
      "metadata": {
        "id": "0T2mZ5tQFz0R",
        "colab_type": "code",
        "outputId": "05744069-e1fc-4595-8bdd-64c6dd040030",
        "colab": {
          "base_uri": "https://localhost:8080/",
          "height": 34
        }
      },
      "source": [
        "import tensorflow\n",
        "tensorflow.__version__"
      ],
      "execution_count": 2,
      "outputs": [
        {
          "output_type": "execute_result",
          "data": {
            "text/plain": [
              "'2.2.0'"
            ]
          },
          "metadata": {
            "tags": []
          },
          "execution_count": 2
        }
      ]
    },
    {
      "cell_type": "code",
      "metadata": {
        "id": "iiqffxGkF3Sk",
        "colab_type": "code",
        "outputId": "090a06dd-f27c-46e0-b089-35f4161de988",
        "colab": {
          "base_uri": "https://localhost:8080/",
          "height": 34
        }
      },
      "source": [
        "from google.colab import drive\n",
        "drive.mount('/content/drive')"
      ],
      "execution_count": 3,
      "outputs": [
        {
          "output_type": "stream",
          "text": [
            "Drive already mounted at /content/drive; to attempt to forcibly remount, call drive.mount(\"/content/drive\", force_remount=True).\n"
          ],
          "name": "stdout"
        }
      ]
    },
    {
      "cell_type": "code",
      "metadata": {
        "id": "PfaQkFeWFtOm",
        "colab_type": "code",
        "colab": {}
      },
      "source": [
        "import h5py"
      ],
      "execution_count": 0,
      "outputs": []
    },
    {
      "cell_type": "code",
      "metadata": {
        "id": "SBlSf1clFjMt",
        "colab_type": "code",
        "colab": {}
      },
      "source": [
        "#Open the file as readonly\n",
        "h5f = h5py.File(\"/content/drive/My Drive/Colab Notebooks/Neural Network/SVHN_single_grey1.h5\", 'r')"
      ],
      "execution_count": 0,
      "outputs": []
    },
    {
      "cell_type": "code",
      "metadata": {
        "id": "EhxZVkZKFjMw",
        "colab_type": "code",
        "colab": {}
      },
      "source": [
        "#Load the training, test and validation set\n",
        "\n",
        "X_train = h5f['X_train'][:]\n",
        "X_test = h5f['X_test'][:]\n",
        "X_val = h5f['X_val'][:]\n",
        "y_train = h5f['y_train'][:]\n",
        "y_test = h5f['y_test'][:]\n",
        "y_val = h5f['y_val'][:]"
      ],
      "execution_count": 0,
      "outputs": []
    },
    {
      "cell_type": "code",
      "metadata": {
        "id": "eSpgTGQYFjMz",
        "colab_type": "code",
        "colab": {}
      },
      "source": [
        "#Close h5f file\n",
        "h5f.close()"
      ],
      "execution_count": 0,
      "outputs": []
    },
    {
      "cell_type": "code",
      "metadata": {
        "id": "s5gRVfZOFjM2",
        "colab_type": "code",
        "outputId": "3a89c9b8-afb9-4e7c-f692-e085957972de",
        "colab": {
          "base_uri": "https://localhost:8080/",
          "height": 158
        }
      },
      "source": [
        "#Display shapes\n",
        "print(X_train.shape)\n",
        "print(X_test.shape)\n",
        "print(X_val.shape)\n",
        "print(\"\\n\")\n",
        "print(y_train.shape)\n",
        "print(y_test.shape)\n",
        "print(y_val.shape)"
      ],
      "execution_count": 8,
      "outputs": [
        {
          "output_type": "stream",
          "text": [
            "(42000, 32, 32)\n",
            "(18000, 32, 32)\n",
            "(60000, 32, 32)\n",
            "\n",
            "\n",
            "(42000,)\n",
            "(18000,)\n",
            "(60000,)\n"
          ],
          "name": "stdout"
        }
      ]
    },
    {
      "cell_type": "code",
      "metadata": {
        "id": "Ol0I3ysDFjM9",
        "colab_type": "code",
        "outputId": "10606edc-e72c-4d6b-c67e-38cb39ef462b",
        "colab": {
          "base_uri": "https://localhost:8080/",
          "height": 95
        }
      },
      "source": [
        "# visualizing the first 10 images in the training dataset and their labels\n",
        "%matplotlib inline\n",
        "import matplotlib.pyplot as plt\n",
        "\n",
        "plt.figure(figsize=(10, 1))\n",
        "for i in range(10):\n",
        "    plt.subplot(1, 10, i+1)\n",
        "    plt.imshow(X_train[i].reshape(32, 32), cmap=\"gray\")\n",
        "    plt.axis('off')\n",
        "plt.show()\n",
        "print('label for each of the above image: %s' % (y_train[0:10]))"
      ],
      "execution_count": 9,
      "outputs": [
        {
          "output_type": "display_data",
          "data": {
            "image/png": "[encoded data removed]",
            "text/plain": [
              "<Figure size 720x72 with 10 Axes>"
            ]
          },
          "metadata": {
            "tags": [],
            "needs_background": "light"
          }
        },
        {
          "output_type": "stream",
          "text": [
            "label for each of the above image: [2 6 7 4 4 0 3 0 7 3]\n"
          ],
          "name": "stdout"
        }
      ]
    },
    {
      "cell_type": "code",
      "metadata": {
        "id": "hZnI4cgTTzaK",
        "colab_type": "code",
        "colab": {}
      },
      "source": [
        "#Reshape X data\n",
        "X_train = X_train.reshape((X_train.shape[0], -1))\n",
        "X_test = X_test.reshape((X_test.shape[0], -1))\n",
        "X_val = X_val.reshape((X_val.shape[0], -1))"
      ],
      "execution_count": 0,
      "outputs": []
    },
    {
      "cell_type": "code",
      "metadata": {
        "id": "cKrvejuJFjND",
        "colab_type": "code",
        "outputId": "5ee9f9b7-c659-446d-f572-df756681508a",
        "colab": {
          "base_uri": "https://localhost:8080/",
          "height": 34
        }
      },
      "source": [
        "from keras.utils.np_utils import to_categorical\n",
        "\n",
        "# converting y data into categorical (one-hot encoding)\n",
        "y_train = to_categorical(y_train)\n",
        "y_test = to_categorical(y_test)\n",
        "y_val = to_categorical(y_val)"
      ],
      "execution_count": 11,
      "outputs": [
        {
          "output_type": "stream",
          "text": [
            "Using TensorFlow backend.\n"
          ],
          "name": "stderr"
        }
      ]
    },
    {
      "cell_type": "code",
      "metadata": {
        "id": "eYzMEzFCFjNG",
        "colab_type": "code",
        "outputId": "26db32bb-6447-4859-b499-fe76504cf12e",
        "colab": {
          "base_uri": "https://localhost:8080/",
          "height": 34
        }
      },
      "source": [
        "print(X_train.shape, X_test.shape, X_val.shape, y_train.shape, y_test.shape, y_val.shape)"
      ],
      "execution_count": 12,
      "outputs": [
        {
          "output_type": "stream",
          "text": [
            "(42000, 1024) (18000, 1024) (60000, 1024) (42000, 10) (18000, 10) (60000, 10)\n"
          ],
          "name": "stdout"
        }
      ]
    },
    {
      "cell_type": "code",
      "metadata": {
        "id": "fCdgcBotFjNJ",
        "colab_type": "code",
        "colab": {}
      },
      "source": [
        "from keras.models import Sequential\n",
        "from keras.layers import Activation, Dense\n",
        "from keras import optimizers\n",
        "from keras.layers import Flatten"
      ],
      "execution_count": 0,
      "outputs": []
    },
    {
      "cell_type": "code",
      "metadata": {
        "id": "5j0D3P4BFjNN",
        "colab_type": "code",
        "colab": {}
      },
      "source": [
        "model = Sequential()"
      ],
      "execution_count": 0,
      "outputs": []
    },
    {
      "cell_type": "code",
      "metadata": {
        "id": "6WGv3W27FjNP",
        "colab_type": "code",
        "colab": {}
      },
      "source": [
        "model.add(Dense(50, input_shape = (1024, )))\n",
        "model.add(Activation('sigmoid'))\n",
        "model.add(Dense(50))\n",
        "model.add(Activation('sigmoid'))\n",
        "model.add(Dense(50))\n",
        "model.add(Activation('sigmoid'))\n",
        "model.add(Dense(50))\n",
        "model.add(Activation('sigmoid'))\n",
        "model.add(Dense(10))\n",
        "model.add(Activation('softmax'))"
      ],
      "execution_count": 0,
      "outputs": []
    },
    {
      "cell_type": "code",
      "metadata": {
        "id": "qgEDEZwDFjNS",
        "colab_type": "code",
        "colab": {}
      },
      "source": [
        "sgd = optimizers.SGD(lr = 0.01)\n",
        "model.compile(optimizer = sgd, loss = 'categorical_crossentropy', metrics = ['accuracy'])"
      ],
      "execution_count": 0,
      "outputs": []
    },
    {
      "cell_type": "code",
      "metadata": {
        "id": "Wep7iz--FjNU",
        "colab_type": "code",
        "outputId": "b47b08ae-5ad5-4ab7-d902-38eb03391fbd",
        "colab": {
          "base_uri": "https://localhost:8080/",
          "height": 372
        }
      },
      "source": [
        "history = model.fit(X_train, y_train, batch_size = 2, epochs = 10, verbose = 1)"
      ],
      "execution_count": 17,
      "outputs": [
        {
          "output_type": "stream",
          "text": [
            "Epoch 1/10\n",
            "42000/42000 [==============================] - 29s 695us/step - loss: 2.3143 - accuracy: 0.1002\n",
            "Epoch 2/10\n",
            "42000/42000 [==============================] - 28s 668us/step - loss: 2.3080 - accuracy: 0.1040\n",
            "Epoch 3/10\n",
            "42000/42000 [==============================] - 28s 675us/step - loss: 2.3064 - accuracy: 0.0989\n",
            "Epoch 4/10\n",
            "42000/42000 [==============================] - 28s 672us/step - loss: 2.3051 - accuracy: 0.0996\n",
            "Epoch 5/10\n",
            "42000/42000 [==============================] - 31s 738us/step - loss: 2.3047 - accuracy: 0.1002\n",
            "Epoch 6/10\n",
            "42000/42000 [==============================] - 28s 675us/step - loss: 2.3046 - accuracy: 0.0984\n",
            "Epoch 7/10\n",
            "42000/42000 [==============================] - 29s 680us/step - loss: 2.3041 - accuracy: 0.1017\n",
            "Epoch 8/10\n",
            "42000/42000 [==============================] - 28s 670us/step - loss: 2.3043 - accuracy: 0.0986\n",
            "Epoch 9/10\n",
            "42000/42000 [==============================] - 28s 674us/step - loss: 2.3041 - accuracy: 0.0976\n",
            "Epoch 10/10\n",
            "42000/42000 [==============================] - 28s 674us/step - loss: 2.3040 - accuracy: 0.1005\n"
          ],
          "name": "stdout"
        }
      ]
    },
    {
      "cell_type": "markdown",
      "metadata": {
        "id": "GeOF8HVs9CYs",
        "colab_type": "text"
      },
      "source": [
        "We notice very less accuracy and hardly any drop in loss"
      ]
    },
    {
      "cell_type": "code",
      "metadata": {
        "id": "dl7An0hRFjNX",
        "colab_type": "code",
        "colab": {}
      },
      "source": [
        "#Lets try relu activation function\n",
        "\n",
        "model = Sequential()\n",
        "model.add(Dense(50, input_shape = (1024, )))\n",
        "model.add(Activation('relu'))\n",
        "model.add(Dense(50))\n",
        "model.add(Activation('relu'))\n",
        "model.add(Dense(50))\n",
        "model.add(Activation('relu'))\n",
        "model.add(Dense(50))\n",
        "model.add(Activation('relu'))\n",
        "model.add(Dense(10))\n",
        "model.add(Activation('softmax'))"
      ],
      "execution_count": 0,
      "outputs": []
    },
    {
      "cell_type": "code",
      "metadata": {
        "id": "FWtG7qiFIFCD",
        "colab_type": "code",
        "colab": {}
      },
      "source": [
        "sgd = optimizers.SGD(lr = 0.001)\n",
        "model.compile(optimizer = sgd, loss = 'categorical_crossentropy', metrics = ['accuracy'])"
      ],
      "execution_count": 0,
      "outputs": []
    },
    {
      "cell_type": "code",
      "metadata": {
        "id": "8gUdIRszIRB8",
        "colab_type": "code",
        "outputId": "90c32806-3976-4d0f-e0ac-c938cdf57073",
        "colab": {
          "base_uri": "https://localhost:8080/",
          "height": 372
        }
      },
      "source": [
        "history = model.fit(X_train, y_train, epochs = 10, verbose = 1)"
      ],
      "execution_count": 20,
      "outputs": [
        {
          "output_type": "stream",
          "text": [
            "Epoch 1/10\n",
            "42000/42000 [==============================] - 2s 57us/step - loss: 3.0709 - accuracy: 0.0993\n",
            "Epoch 2/10\n",
            "42000/42000 [==============================] - 2s 55us/step - loss: 2.3027 - accuracy: 0.1020\n",
            "Epoch 3/10\n",
            "42000/42000 [==============================] - 2s 55us/step - loss: 2.3023 - accuracy: 0.1021\n",
            "Epoch 4/10\n",
            "42000/42000 [==============================] - 2s 55us/step - loss: 2.3022 - accuracy: 0.1020\n",
            "Epoch 5/10\n",
            "42000/42000 [==============================] - 2s 55us/step - loss: 2.3021 - accuracy: 0.1022\n",
            "Epoch 6/10\n",
            "42000/42000 [==============================] - 2s 54us/step - loss: 2.3022 - accuracy: 0.1022\n",
            "Epoch 7/10\n",
            "42000/42000 [==============================] - 2s 55us/step - loss: 2.3020 - accuracy: 0.1022\n",
            "Epoch 8/10\n",
            "42000/42000 [==============================] - 2s 55us/step - loss: 2.3020 - accuracy: 0.1023\n",
            "Epoch 9/10\n",
            "42000/42000 [==============================] - 2s 56us/step - loss: 2.3020 - accuracy: 0.1025\n",
            "Epoch 10/10\n",
            "42000/42000 [==============================] - 2s 55us/step - loss: 2.3019 - accuracy: 0.1023\n"
          ],
          "name": "stdout"
        }
      ]
    },
    {
      "cell_type": "markdown",
      "metadata": {
        "id": "srGvnkDd9Kmn",
        "colab_type": "text"
      },
      "source": [
        "We notice very less accuracy and hardly any drop in loss"
      ]
    },
    {
      "cell_type": "code",
      "metadata": {
        "id": "33v0pRw_IWmy",
        "colab_type": "code",
        "outputId": "fbadd178-31a9-4ed0-ecc8-b9e727396365",
        "colab": {
          "base_uri": "https://localhost:8080/",
          "height": 1000
        }
      },
      "source": [
        "#Lets try kernel_initializer='he_uniform'\n",
        "\n",
        "model = Sequential()\n",
        "model.add(Dense(50, input_shape = (1024, ), kernel_initializer='he_uniform'))\n",
        "model.add(Activation('relu'))\n",
        "model.add(Dense(50, kernel_initializer='he_uniform'))\n",
        "model.add(Activation('relu'))\n",
        "model.add(Dense(50, kernel_initializer='he_uniform'))\n",
        "model.add(Activation('relu'))\n",
        "model.add(Dense(50, kernel_initializer='he_uniform'))\n",
        "model.add(Activation('relu'))\n",
        "model.add(Dense(10, kernel_initializer='he_uniform'))\n",
        "model.add(Activation('softmax'))\n",
        "\n",
        "sgd = optimizers.SGD(lr = 0.001)\n",
        "model.compile(optimizer = sgd, loss='categorical_crossentropy', metrics=['accuracy'])\n",
        "history = model.fit(X_train, y_train, batch_size=200, epochs = 50, verbose = 1)"
      ],
      "execution_count": 21,
      "outputs": [
        {
          "output_type": "stream",
          "text": [
            "Epoch 1/50\n",
            "42000/42000 [==============================] - 1s 20us/step - loss: 840.5996 - accuracy: 0.0998\n",
            "Epoch 2/50\n",
            "42000/42000 [==============================] - 1s 19us/step - loss: 2.3026 - accuracy: 0.0993\n",
            "Epoch 3/50\n",
            "42000/42000 [==============================] - 1s 18us/step - loss: 2.3026 - accuracy: 0.1006\n",
            "Epoch 4/50\n",
            "42000/42000 [==============================] - 1s 19us/step - loss: 2.3026 - accuracy: 0.1019\n",
            "Epoch 5/50\n",
            "42000/42000 [==============================] - 1s 19us/step - loss: 2.3026 - accuracy: 0.1019\n",
            "Epoch 6/50\n",
            "42000/42000 [==============================] - 1s 19us/step - loss: 2.3026 - accuracy: 0.1019\n",
            "Epoch 7/50\n",
            "42000/42000 [==============================] - 1s 19us/step - loss: 2.3026 - accuracy: 0.1019\n",
            "Epoch 8/50\n",
            "42000/42000 [==============================] - 1s 20us/step - loss: 2.3026 - accuracy: 0.1019\n",
            "Epoch 9/50\n",
            "42000/42000 [==============================] - 1s 20us/step - loss: 2.3026 - accuracy: 0.1019\n",
            "Epoch 10/50\n",
            "42000/42000 [==============================] - 1s 20us/step - loss: 2.3026 - accuracy: 0.1019\n",
            "Epoch 11/50\n",
            "42000/42000 [==============================] - 1s 20us/step - loss: 2.3026 - accuracy: 0.1019\n",
            "Epoch 12/50\n",
            "42000/42000 [==============================] - 1s 19us/step - loss: 2.3026 - accuracy: 0.1019\n",
            "Epoch 13/50\n",
            "42000/42000 [==============================] - 1s 20us/step - loss: 2.3026 - accuracy: 0.1019\n",
            "Epoch 14/50\n",
            "42000/42000 [==============================] - 1s 20us/step - loss: 2.3026 - accuracy: 0.1019\n",
            "Epoch 15/50\n",
            "42000/42000 [==============================] - 1s 20us/step - loss: 2.3026 - accuracy: 0.1019\n",
            "Epoch 16/50\n",
            "42000/42000 [==============================] - 1s 22us/step - loss: 2.3026 - accuracy: 0.1019\n",
            "Epoch 17/50\n",
            "42000/42000 [==============================] - 1s 22us/step - loss: 2.3026 - accuracy: 0.1019\n",
            "Epoch 18/50\n",
            "42000/42000 [==============================] - 1s 20us/step - loss: 2.3026 - accuracy: 0.1019\n",
            "Epoch 19/50\n",
            "42000/42000 [==============================] - 1s 19us/step - loss: 2.3026 - accuracy: 0.1019\n",
            "Epoch 20/50\n",
            "42000/42000 [==============================] - 1s 19us/step - loss: 2.3026 - accuracy: 0.1019\n",
            "Epoch 21/50\n",
            "42000/42000 [==============================] - 1s 19us/step - loss: 2.3026 - accuracy: 0.1019\n",
            "Epoch 22/50\n",
            "42000/42000 [==============================] - 1s 19us/step - loss: 2.3026 - accuracy: 0.1019\n",
            "Epoch 23/50\n",
            "42000/42000 [==============================] - 1s 19us/step - loss: 2.3026 - accuracy: 0.1019\n",
            "Epoch 24/50\n",
            "42000/42000 [==============================] - 1s 18us/step - loss: 2.3026 - accuracy: 0.1019\n",
            "Epoch 25/50\n",
            "42000/42000 [==============================] - 1s 19us/step - loss: 2.3026 - accuracy: 0.1019\n",
            "Epoch 26/50\n",
            "42000/42000 [==============================] - 1s 20us/step - loss: 2.3026 - accuracy: 0.1019\n",
            "Epoch 27/50\n",
            "42000/42000 [==============================] - 1s 20us/step - loss: 2.3026 - accuracy: 0.1019\n",
            "Epoch 28/50\n",
            "42000/42000 [==============================] - 1s 19us/step - loss: 2.3026 - accuracy: 0.1019\n",
            "Epoch 29/50\n",
            "42000/42000 [==============================] - 1s 19us/step - loss: 2.3026 - accuracy: 0.1019\n",
            "Epoch 30/50\n",
            "42000/42000 [==============================] - 1s 19us/step - loss: 2.3026 - accuracy: 0.1019\n",
            "Epoch 31/50\n",
            "42000/42000 [==============================] - 1s 19us/step - loss: 2.3026 - accuracy: 0.1019\n",
            "Epoch 32/50\n",
            "42000/42000 [==============================] - 1s 19us/step - loss: 2.3026 - accuracy: 0.1019\n",
            "Epoch 33/50\n",
            "42000/42000 [==============================] - 1s 19us/step - loss: 2.3026 - accuracy: 0.1019\n",
            "Epoch 34/50\n",
            "42000/42000 [==============================] - 1s 19us/step - loss: 2.3026 - accuracy: 0.1019\n",
            "Epoch 35/50\n",
            "42000/42000 [==============================] - 1s 19us/step - loss: 2.3026 - accuracy: 0.1019\n",
            "Epoch 36/50\n",
            "42000/42000 [==============================] - 1s 19us/step - loss: 2.3026 - accuracy: 0.1019\n",
            "Epoch 37/50\n",
            "42000/42000 [==============================] - 1s 19us/step - loss: 2.3026 - accuracy: 0.1019\n",
            "Epoch 38/50\n",
            "42000/42000 [==============================] - 1s 19us/step - loss: 2.3026 - accuracy: 0.1019\n",
            "Epoch 39/50\n",
            "42000/42000 [==============================] - 1s 18us/step - loss: 2.3026 - accuracy: 0.1019\n",
            "Epoch 40/50\n",
            "42000/42000 [==============================] - 1s 18us/step - loss: 2.3026 - accuracy: 0.1019\n",
            "Epoch 41/50\n",
            "42000/42000 [==============================] - 1s 19us/step - loss: 2.3026 - accuracy: 0.1019\n",
            "Epoch 42/50\n",
            "42000/42000 [==============================] - 1s 19us/step - loss: 2.3026 - accuracy: 0.1019\n",
            "Epoch 43/50\n",
            "42000/42000 [==============================] - 1s 19us/step - loss: 2.3026 - accuracy: 0.1019\n",
            "Epoch 44/50\n",
            "42000/42000 [==============================] - 1s 18us/step - loss: 2.3026 - accuracy: 0.1019\n",
            "Epoch 45/50\n",
            "42000/42000 [==============================] - 1s 19us/step - loss: 2.3026 - accuracy: 0.1019\n",
            "Epoch 46/50\n",
            "42000/42000 [==============================] - 1s 18us/step - loss: 2.3026 - accuracy: 0.1019\n",
            "Epoch 47/50\n",
            "42000/42000 [==============================] - 1s 19us/step - loss: 2.3026 - accuracy: 0.1019\n",
            "Epoch 48/50\n",
            "42000/42000 [==============================] - 1s 18us/step - loss: 2.3026 - accuracy: 0.1019\n",
            "Epoch 49/50\n",
            "42000/42000 [==============================] - 1s 19us/step - loss: 2.3026 - accuracy: 0.1019\n",
            "Epoch 50/50\n",
            "42000/42000 [==============================] - 1s 18us/step - loss: 2.3026 - accuracy: 0.1019\n"
          ],
          "name": "stdout"
        }
      ]
    },
    {
      "cell_type": "markdown",
      "metadata": {
        "id": "i0Ffyqr69au2",
        "colab_type": "text"
      },
      "source": [
        "We notice very less accuracy and hardly any drop in loss"
      ]
    },
    {
      "cell_type": "code",
      "metadata": {
        "id": "5rfir9wOLJsZ",
        "colab_type": "code",
        "outputId": "92742651-1887-4423-a2aa-62de56f646f6",
        "colab": {
          "base_uri": "https://localhost:8080/",
          "height": 1000
        }
      },
      "source": [
        "from keras.layers import BatchNormalization\n",
        "\n",
        "#Lets try Batch normalization\n",
        "model = Sequential()\n",
        "model.add(Dense(50, input_shape = (1024, )))\n",
        "model.add(BatchNormalization())                    \n",
        "model.add(Activation('relu'))    \n",
        "model.add(Dense(50))\n",
        "model.add(BatchNormalization())                    \n",
        "model.add(Activation('relu'))    \n",
        "model.add(Dense(50))\n",
        "model.add(BatchNormalization())                    \n",
        "model.add(Activation('relu'))    \n",
        "model.add(Dense(50))\n",
        "model.add(BatchNormalization())                    \n",
        "model.add(Activation('relu'))  \n",
        "model.add(Dense(10))\n",
        "model.add(Activation('softmax'))\n",
        "\n",
        "sgd = optimizers.SGD(lr = 0.007, momentum = 0.9)\n",
        "model.compile(optimizer = sgd, loss = 'categorical_crossentropy', metrics = ['accuracy'])\n",
        "history = model.fit(X_train, y_train, validation_data=(X_val, y_val), epochs = 100, verbose = 1)"
      ],
      "execution_count": 25,
      "outputs": [
        {
          "output_type": "stream",
          "text": [
            "Train on 42000 samples, validate on 60000 samples\n",
            "Epoch 1/100\n",
            "42000/42000 [==============================] - 6s 143us/step - loss: 1.6302 - accuracy: 0.4376 - val_loss: 1.8408 - val_accuracy: 0.3717\n",
            "Epoch 2/100\n",
            "42000/42000 [==============================] - 6s 134us/step - loss: 1.1574 - accuracy: 0.6279 - val_loss: 1.4090 - val_accuracy: 0.5300\n",
            "Epoch 3/100\n",
            "42000/42000 [==============================] - 6s 132us/step - loss: 1.0295 - accuracy: 0.6729 - val_loss: 1.0421 - val_accuracy: 0.6648\n",
            "Epoch 4/100\n",
            "42000/42000 [==============================] - 6s 134us/step - loss: 0.9419 - accuracy: 0.6997 - val_loss: 1.0004 - val_accuracy: 0.6783\n",
            "Epoch 5/100\n",
            "42000/42000 [==============================] - 6s 132us/step - loss: 0.8867 - accuracy: 0.7154 - val_loss: 1.1588 - val_accuracy: 0.6134\n",
            "Epoch 6/100\n",
            "42000/42000 [==============================] - 6s 133us/step - loss: 0.8401 - accuracy: 0.7336 - val_loss: 0.9483 - val_accuracy: 0.6932\n",
            "Epoch 7/100\n",
            "42000/42000 [==============================] - 6s 132us/step - loss: 0.8102 - accuracy: 0.7436 - val_loss: 0.9000 - val_accuracy: 0.7181\n",
            "Epoch 8/100\n",
            "42000/42000 [==============================] - 6s 132us/step - loss: 0.7838 - accuracy: 0.7539 - val_loss: 0.9217 - val_accuracy: 0.7046\n",
            "Epoch 9/100\n",
            "42000/42000 [==============================] - 6s 137us/step - loss: 0.7586 - accuracy: 0.7607 - val_loss: 0.7334 - val_accuracy: 0.7697\n",
            "Epoch 10/100\n",
            "42000/42000 [==============================] - 6s 133us/step - loss: 0.7366 - accuracy: 0.7701 - val_loss: 0.7271 - val_accuracy: 0.7688\n",
            "Epoch 11/100\n",
            "42000/42000 [==============================] - 6s 132us/step - loss: 0.7214 - accuracy: 0.7716 - val_loss: 1.0864 - val_accuracy: 0.6605\n",
            "Epoch 12/100\n",
            "42000/42000 [==============================] - 6s 131us/step - loss: 0.7078 - accuracy: 0.7785 - val_loss: 0.7673 - val_accuracy: 0.7558\n",
            "Epoch 13/100\n",
            "42000/42000 [==============================] - 6s 134us/step - loss: 0.6948 - accuracy: 0.7807 - val_loss: 0.8193 - val_accuracy: 0.7348\n",
            "Epoch 14/100\n",
            "42000/42000 [==============================] - 6s 134us/step - loss: 0.6819 - accuracy: 0.7850 - val_loss: 0.7685 - val_accuracy: 0.7500\n",
            "Epoch 15/100\n",
            "42000/42000 [==============================] - 5s 130us/step - loss: 0.6694 - accuracy: 0.7880 - val_loss: 0.6543 - val_accuracy: 0.7969\n",
            "Epoch 16/100\n",
            "42000/42000 [==============================] - 6s 132us/step - loss: 0.6598 - accuracy: 0.7911 - val_loss: 0.6670 - val_accuracy: 0.7876\n",
            "Epoch 17/100\n",
            "42000/42000 [==============================] - 6s 132us/step - loss: 0.6478 - accuracy: 0.7944 - val_loss: 0.8841 - val_accuracy: 0.7157\n",
            "Epoch 18/100\n",
            "42000/42000 [==============================] - 6s 133us/step - loss: 0.6483 - accuracy: 0.7936 - val_loss: 0.7214 - val_accuracy: 0.7699\n",
            "Epoch 19/100\n",
            "42000/42000 [==============================] - 6s 132us/step - loss: 0.6380 - accuracy: 0.7969 - val_loss: 0.6277 - val_accuracy: 0.8032\n",
            "Epoch 20/100\n",
            "42000/42000 [==============================] - 6s 133us/step - loss: 0.6285 - accuracy: 0.8028 - val_loss: 0.6902 - val_accuracy: 0.7817\n",
            "Epoch 21/100\n",
            "42000/42000 [==============================] - 6s 131us/step - loss: 0.6168 - accuracy: 0.8041 - val_loss: 0.6425 - val_accuracy: 0.8001\n",
            "Epoch 22/100\n",
            "42000/42000 [==============================] - 6s 132us/step - loss: 0.6157 - accuracy: 0.8038 - val_loss: 0.6147 - val_accuracy: 0.8048\n",
            "Epoch 23/100\n",
            "42000/42000 [==============================] - 6s 131us/step - loss: 0.6058 - accuracy: 0.8094 - val_loss: 0.5624 - val_accuracy: 0.8259\n",
            "Epoch 24/100\n",
            "42000/42000 [==============================] - 6s 135us/step - loss: 0.6032 - accuracy: 0.8087 - val_loss: 0.6100 - val_accuracy: 0.8055\n",
            "Epoch 25/100\n",
            "42000/42000 [==============================] - 6s 134us/step - loss: 0.6026 - accuracy: 0.8081 - val_loss: 0.7136 - val_accuracy: 0.7721\n",
            "Epoch 26/100\n",
            "42000/42000 [==============================] - 6s 131us/step - loss: 0.5910 - accuracy: 0.8122 - val_loss: 0.6062 - val_accuracy: 0.8112\n",
            "Epoch 27/100\n",
            "42000/42000 [==============================] - 6s 132us/step - loss: 0.5939 - accuracy: 0.8108 - val_loss: 0.7100 - val_accuracy: 0.7728\n",
            "Epoch 28/100\n",
            "42000/42000 [==============================] - 6s 135us/step - loss: 0.5848 - accuracy: 0.8151 - val_loss: 0.6019 - val_accuracy: 0.8101\n",
            "Epoch 29/100\n",
            "42000/42000 [==============================] - 6s 136us/step - loss: 0.5848 - accuracy: 0.8144 - val_loss: 0.6929 - val_accuracy: 0.7741\n",
            "Epoch 30/100\n",
            "42000/42000 [==============================] - 6s 132us/step - loss: 0.5812 - accuracy: 0.8145 - val_loss: 0.5943 - val_accuracy: 0.8123\n",
            "Epoch 31/100\n",
            "42000/42000 [==============================] - 6s 135us/step - loss: 0.5746 - accuracy: 0.8167 - val_loss: 0.6007 - val_accuracy: 0.8106\n",
            "Epoch 32/100\n",
            "42000/42000 [==============================] - 6s 134us/step - loss: 0.5608 - accuracy: 0.8203 - val_loss: 0.6522 - val_accuracy: 0.7957\n",
            "Epoch 33/100\n",
            "42000/42000 [==============================] - 6s 135us/step - loss: 0.5719 - accuracy: 0.8182 - val_loss: 0.6761 - val_accuracy: 0.7932\n",
            "Epoch 34/100\n",
            "42000/42000 [==============================] - 5s 131us/step - loss: 0.5594 - accuracy: 0.8222 - val_loss: 0.7366 - val_accuracy: 0.7627\n",
            "Epoch 35/100\n",
            "42000/42000 [==============================] - 6s 132us/step - loss: 0.5596 - accuracy: 0.8223 - val_loss: 0.6440 - val_accuracy: 0.7937\n",
            "Epoch 36/100\n",
            "42000/42000 [==============================] - 6s 132us/step - loss: 0.5550 - accuracy: 0.8227 - val_loss: 0.6716 - val_accuracy: 0.7898\n",
            "Epoch 37/100\n",
            "42000/42000 [==============================] - 6s 131us/step - loss: 0.5566 - accuracy: 0.8217 - val_loss: 0.5280 - val_accuracy: 0.8346\n",
            "Epoch 38/100\n",
            "42000/42000 [==============================] - 6s 134us/step - loss: 0.5513 - accuracy: 0.8220 - val_loss: 0.5655 - val_accuracy: 0.8223\n",
            "Epoch 39/100\n",
            "42000/42000 [==============================] - 6s 132us/step - loss: 0.5438 - accuracy: 0.8259 - val_loss: 0.6963 - val_accuracy: 0.7799\n",
            "Epoch 40/100\n",
            "42000/42000 [==============================] - 6s 132us/step - loss: 0.5432 - accuracy: 0.8256 - val_loss: 0.5448 - val_accuracy: 0.8317\n",
            "Epoch 41/100\n",
            "42000/42000 [==============================] - 6s 132us/step - loss: 0.5347 - accuracy: 0.8290 - val_loss: 0.5088 - val_accuracy: 0.8387\n",
            "Epoch 42/100\n",
            "42000/42000 [==============================] - 6s 131us/step - loss: 0.5419 - accuracy: 0.8271 - val_loss: 0.5537 - val_accuracy: 0.8245\n",
            "Epoch 43/100\n",
            "42000/42000 [==============================] - 5s 131us/step - loss: 0.5383 - accuracy: 0.8278 - val_loss: 0.5572 - val_accuracy: 0.8250\n",
            "Epoch 44/100\n",
            "42000/42000 [==============================] - 5s 130us/step - loss: 0.5282 - accuracy: 0.8320 - val_loss: 0.5506 - val_accuracy: 0.8262\n",
            "Epoch 45/100\n",
            "42000/42000 [==============================] - 6s 131us/step - loss: 0.5358 - accuracy: 0.8289 - val_loss: 0.5462 - val_accuracy: 0.8273\n",
            "Epoch 46/100\n",
            "42000/42000 [==============================] - 6s 137us/step - loss: 0.5342 - accuracy: 0.8308 - val_loss: 0.5413 - val_accuracy: 0.8308\n",
            "Epoch 47/100\n",
            "42000/42000 [==============================] - 6s 131us/step - loss: 0.5251 - accuracy: 0.8314 - val_loss: 0.5875 - val_accuracy: 0.8166\n",
            "Epoch 48/100\n",
            "42000/42000 [==============================] - 6s 139us/step - loss: 0.5194 - accuracy: 0.8331 - val_loss: 0.5281 - val_accuracy: 0.8358\n",
            "Epoch 49/100\n",
            "42000/42000 [==============================] - 6s 137us/step - loss: 0.5270 - accuracy: 0.8315 - val_loss: 0.4919 - val_accuracy: 0.8467\n",
            "Epoch 50/100\n",
            "42000/42000 [==============================] - 6s 132us/step - loss: 0.5226 - accuracy: 0.8304 - val_loss: 0.5319 - val_accuracy: 0.8352\n",
            "Epoch 51/100\n",
            "42000/42000 [==============================] - 6s 133us/step - loss: 0.5211 - accuracy: 0.8338 - val_loss: 0.5491 - val_accuracy: 0.8270\n",
            "Epoch 52/100\n",
            "42000/42000 [==============================] - 6s 133us/step - loss: 0.5209 - accuracy: 0.8325 - val_loss: 0.5182 - val_accuracy: 0.8365\n",
            "Epoch 53/100\n",
            "42000/42000 [==============================] - 6s 133us/step - loss: 0.5128 - accuracy: 0.8352 - val_loss: 0.5135 - val_accuracy: 0.8374\n",
            "Epoch 54/100\n",
            "42000/42000 [==============================] - 6s 132us/step - loss: 0.5123 - accuracy: 0.8349 - val_loss: 0.5603 - val_accuracy: 0.8230\n",
            "Epoch 55/100\n",
            "42000/42000 [==============================] - 6s 133us/step - loss: 0.5111 - accuracy: 0.8382 - val_loss: 0.6467 - val_accuracy: 0.7901\n",
            "Epoch 56/100\n",
            "42000/42000 [==============================] - 6s 132us/step - loss: 0.5046 - accuracy: 0.8375 - val_loss: 0.5432 - val_accuracy: 0.8297\n",
            "Epoch 57/100\n",
            "42000/42000 [==============================] - 6s 133us/step - loss: 0.5156 - accuracy: 0.8341 - val_loss: 0.5133 - val_accuracy: 0.8358\n",
            "Epoch 58/100\n",
            "42000/42000 [==============================] - 6s 131us/step - loss: 0.5062 - accuracy: 0.8365 - val_loss: 0.5726 - val_accuracy: 0.8200\n",
            "Epoch 59/100\n",
            "42000/42000 [==============================] - 6s 131us/step - loss: 0.5056 - accuracy: 0.8396 - val_loss: 0.5330 - val_accuracy: 0.8321\n",
            "Epoch 60/100\n",
            "42000/42000 [==============================] - 6s 137us/step - loss: 0.5032 - accuracy: 0.8385 - val_loss: 0.5160 - val_accuracy: 0.8390\n",
            "Epoch 61/100\n",
            "42000/42000 [==============================] - 5s 131us/step - loss: 0.4958 - accuracy: 0.8413 - val_loss: 0.5966 - val_accuracy: 0.8093\n",
            "Epoch 62/100\n",
            "42000/42000 [==============================] - 6s 132us/step - loss: 0.5043 - accuracy: 0.8390 - val_loss: 0.4789 - val_accuracy: 0.8486\n",
            "Epoch 63/100\n",
            "42000/42000 [==============================] - 6s 133us/step - loss: 0.4985 - accuracy: 0.8400 - val_loss: 0.5055 - val_accuracy: 0.8433\n",
            "Epoch 64/100\n",
            "42000/42000 [==============================] - 6s 131us/step - loss: 0.4972 - accuracy: 0.8408 - val_loss: 0.6152 - val_accuracy: 0.8040\n",
            "Epoch 65/100\n",
            "42000/42000 [==============================] - 5s 131us/step - loss: 0.4899 - accuracy: 0.8425 - val_loss: 0.5233 - val_accuracy: 0.8336\n",
            "Epoch 66/100\n",
            "42000/42000 [==============================] - 6s 140us/step - loss: 0.4932 - accuracy: 0.8416 - val_loss: 0.5115 - val_accuracy: 0.8392\n",
            "Epoch 67/100\n",
            "42000/42000 [==============================] - 8s 188us/step - loss: 0.4904 - accuracy: 0.8412 - val_loss: 0.5095 - val_accuracy: 0.8405\n",
            "Epoch 68/100\n",
            "42000/42000 [==============================] - 6s 140us/step - loss: 0.4861 - accuracy: 0.8432 - val_loss: 0.5476 - val_accuracy: 0.8292\n",
            "Epoch 69/100\n",
            "42000/42000 [==============================] - 6s 134us/step - loss: 0.4867 - accuracy: 0.8428 - val_loss: 0.5501 - val_accuracy: 0.8284\n",
            "Epoch 70/100\n",
            "42000/42000 [==============================] - 5s 130us/step - loss: 0.4882 - accuracy: 0.8433 - val_loss: 0.5291 - val_accuracy: 0.8333\n",
            "Epoch 71/100\n",
            "42000/42000 [==============================] - 6s 132us/step - loss: 0.4907 - accuracy: 0.8412 - val_loss: 0.5228 - val_accuracy: 0.8343\n",
            "Epoch 72/100\n",
            "42000/42000 [==============================] - 6s 131us/step - loss: 0.4837 - accuracy: 0.8453 - val_loss: 0.4687 - val_accuracy: 0.8544\n",
            "Epoch 73/100\n",
            "42000/42000 [==============================] - 6s 136us/step - loss: 0.4803 - accuracy: 0.8451 - val_loss: 0.5511 - val_accuracy: 0.8270\n",
            "Epoch 74/100\n",
            "42000/42000 [==============================] - 6s 133us/step - loss: 0.4915 - accuracy: 0.8424 - val_loss: 0.4653 - val_accuracy: 0.8573\n",
            "Epoch 75/100\n",
            "42000/42000 [==============================] - 6s 134us/step - loss: 0.4800 - accuracy: 0.8450 - val_loss: 0.4905 - val_accuracy: 0.8470\n",
            "Epoch 76/100\n",
            "42000/42000 [==============================] - 6s 132us/step - loss: 0.4824 - accuracy: 0.8435 - val_loss: 0.5500 - val_accuracy: 0.8272\n",
            "Epoch 77/100\n",
            "42000/42000 [==============================] - 6s 133us/step - loss: 0.4823 - accuracy: 0.8450 - val_loss: 0.5066 - val_accuracy: 0.8434\n",
            "Epoch 78/100\n",
            "42000/42000 [==============================] - 6s 134us/step - loss: 0.4855 - accuracy: 0.8435 - val_loss: 0.5113 - val_accuracy: 0.8390\n",
            "Epoch 79/100\n",
            "42000/42000 [==============================] - 6s 133us/step - loss: 0.4772 - accuracy: 0.8453 - val_loss: 0.5198 - val_accuracy: 0.8354\n",
            "Epoch 80/100\n",
            "42000/42000 [==============================] - 6s 133us/step - loss: 0.4742 - accuracy: 0.8482 - val_loss: 0.4454 - val_accuracy: 0.8643\n",
            "Epoch 81/100\n",
            "42000/42000 [==============================] - 6s 133us/step - loss: 0.4757 - accuracy: 0.8463 - val_loss: 0.4707 - val_accuracy: 0.8530\n",
            "Epoch 82/100\n",
            "42000/42000 [==============================] - 6s 133us/step - loss: 0.4781 - accuracy: 0.8452 - val_loss: 0.4898 - val_accuracy: 0.8476\n",
            "Epoch 83/100\n",
            "42000/42000 [==============================] - 6s 134us/step - loss: 0.4710 - accuracy: 0.8488 - val_loss: 0.5288 - val_accuracy: 0.8345\n",
            "Epoch 84/100\n",
            "42000/42000 [==============================] - 6s 133us/step - loss: 0.4726 - accuracy: 0.8478 - val_loss: 0.4344 - val_accuracy: 0.8646\n",
            "Epoch 85/100\n",
            "42000/42000 [==============================] - 6s 133us/step - loss: 0.4702 - accuracy: 0.8498 - val_loss: 0.4596 - val_accuracy: 0.8563\n",
            "Epoch 86/100\n",
            "42000/42000 [==============================] - 6s 133us/step - loss: 0.4687 - accuracy: 0.8495 - val_loss: 0.5018 - val_accuracy: 0.8434\n",
            "Epoch 87/100\n",
            "42000/42000 [==============================] - 6s 133us/step - loss: 0.4653 - accuracy: 0.8495 - val_loss: 0.4556 - val_accuracy: 0.8588\n",
            "Epoch 88/100\n",
            "42000/42000 [==============================] - 6s 135us/step - loss: 0.4678 - accuracy: 0.8485 - val_loss: 0.4560 - val_accuracy: 0.8587\n",
            "Epoch 89/100\n",
            "42000/42000 [==============================] - 6s 131us/step - loss: 0.4698 - accuracy: 0.8490 - val_loss: 0.4890 - val_accuracy: 0.8486\n",
            "Epoch 90/100\n",
            "42000/42000 [==============================] - 6s 133us/step - loss: 0.4620 - accuracy: 0.8517 - val_loss: 0.4518 - val_accuracy: 0.8629\n",
            "Epoch 91/100\n",
            "42000/42000 [==============================] - 5s 130us/step - loss: 0.4623 - accuracy: 0.8515 - val_loss: 0.5714 - val_accuracy: 0.8223\n",
            "Epoch 92/100\n",
            "42000/42000 [==============================] - 6s 132us/step - loss: 0.4605 - accuracy: 0.8507 - val_loss: 0.4614 - val_accuracy: 0.8554\n",
            "Epoch 93/100\n",
            "42000/42000 [==============================] - 6s 134us/step - loss: 0.4662 - accuracy: 0.8512 - val_loss: 0.4968 - val_accuracy: 0.8443\n",
            "Epoch 94/100\n",
            "42000/42000 [==============================] - 6s 134us/step - loss: 0.4608 - accuracy: 0.8514 - val_loss: 0.4843 - val_accuracy: 0.8465\n",
            "Epoch 95/100\n",
            "42000/42000 [==============================] - 6s 131us/step - loss: 0.4716 - accuracy: 0.8467 - val_loss: 0.5005 - val_accuracy: 0.8432\n",
            "Epoch 96/100\n",
            "42000/42000 [==============================] - 6s 131us/step - loss: 0.4586 - accuracy: 0.8517 - val_loss: 0.4676 - val_accuracy: 0.8553\n",
            "Epoch 97/100\n",
            "42000/42000 [==============================] - 6s 134us/step - loss: 0.4611 - accuracy: 0.8502 - val_loss: 0.4585 - val_accuracy: 0.8561\n",
            "Epoch 98/100\n",
            "42000/42000 [==============================] - 6s 135us/step - loss: 0.4565 - accuracy: 0.8536 - val_loss: 0.5418 - val_accuracy: 0.8274\n",
            "Epoch 99/100\n",
            "42000/42000 [==============================] - 5s 131us/step - loss: 0.4623 - accuracy: 0.8501 - val_loss: 0.5168 - val_accuracy: 0.8392\n",
            "Epoch 100/100\n",
            "42000/42000 [==============================] - 6s 132us/step - loss: 0.4624 - accuracy: 0.8516 - val_loss: 0.4557 - val_accuracy: 0.8580\n"
          ],
          "name": "stdout"
        }
      ]
    },
    {
      "cell_type": "code",
      "metadata": {
        "id": "OexwqFLDPl8x",
        "colab_type": "code",
        "outputId": "4f8454db-f15a-4ef4-a64a-7068a514c0d8",
        "colab": {
          "base_uri": "https://localhost:8080/",
          "height": 87
        }
      },
      "source": [
        "from sklearn.metrics import accuracy_score\n",
        "from sklearn.metrics import precision_score\n",
        "from sklearn.metrics import recall_score\n",
        "from sklearn.metrics import f1_score\n",
        "import numpy as np\n",
        "\n",
        "pred = model.predict_classes(X_test, verbose=0)\n",
        "y_test1 = np.argmax(y_test, axis=1)\n",
        "\n",
        "#Classification Accuracy metrics\n",
        "\n",
        "# accuracy: (tp + tn) / (p + n)\n",
        "accuracy = accuracy_score(y_test1, pred)\n",
        "print('Accuracy: %f' % accuracy)\n",
        "# precision tp / (tp + fp)\n",
        "precision = precision_score(y_test1, pred, average='weighted')\n",
        "print('Precision: %f' % precision)\n",
        "# recall: tp / (tp + fn)\n",
        "recall = recall_score(y_test1, pred, average='weighted')\n",
        "print('Recall: %f' % recall)\n",
        "# f1: 2 tp / (2 tp + fp + fn)\n",
        "f1 = f1_score(y_test1, pred, average='weighted')\n",
        "print('F1 score: %f' % f1)\n",
        "\n"
      ],
      "execution_count": 26,
      "outputs": [
        {
          "output_type": "stream",
          "text": [
            "Accuracy: 0.821667\n",
            "Precision: 0.825498\n",
            "Recall: 0.821667\n",
            "F1 score: 0.821743\n"
          ],
          "name": "stdout"
        }
      ]
    },
    {
      "cell_type": "code",
      "metadata": {
        "id": "83s9lsH7TztJ",
        "colab_type": "code",
        "outputId": "5c2f962c-c4f2-4c44-dfb6-9e357a52bdce",
        "colab": {
          "base_uri": "https://localhost:8080/",
          "height": 273
        }
      },
      "source": [
        "#Lets predict images from test dataset\n",
        "plt.figure(figsize=(10, 1))\n",
        "for i in range(10):\n",
        "    plt.subplot(1, 10, i+1)\n",
        "    plt.imshow(X_test[i].reshape(32, 32), cmap=\"gray\")\n",
        "    plt.axis('off')\n",
        "plt.show()\n",
        "print('label for each of the above image: %s' % (y_test1[0:10]))\n",
        "\n",
        "for i in range(10):\n",
        "    pred = model.predict_classes(X_test[[i],:])\n",
        "    print('Prediction: %f' % pred)"
      ],
      "execution_count": 27,
      "outputs": [
        {
          "output_type": "display_data",
          "data": {
            "image/png": "[encoded data removed]",
            "text/plain": [
              "<Figure size 720x72 with 10 Axes>"
            ]
          },
          "metadata": {
            "tags": [],
            "needs_background": "light"
          }
        },
        {
          "output_type": "stream",
          "text": [
            "label for each of the above image: [1 7 2 9 0 9 1 8 4 4]\n",
            "Prediction: 0.000000\n",
            "Prediction: 7.000000\n",
            "Prediction: 2.000000\n",
            "Prediction: 9.000000\n",
            "Prediction: 0.000000\n",
            "Prediction: 9.000000\n",
            "Prediction: 1.000000\n",
            "Prediction: 3.000000\n",
            "Prediction: 1.000000\n",
            "Prediction: 4.000000\n"
          ],
          "name": "stdout"
        }
      ]
    }
  ]
}